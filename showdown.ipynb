{
 "cells": [
  {
   "cell_type": "markdown",
   "metadata": {},
   "source": [
    "Selecciona las columnas DisplayName, Location y Reputation de los usuarios con mayor\n",
    " reputación. Ordena los resultados por la columna Reputation de forma descendente y\n",
    " presenta los resultados en una tabla mostrando solo las columnas DisplayName,\n",
    " Location y Reputation."
   ]
  },
  {
   "cell_type": "code",
   "execution_count": null,
   "metadata": {
    "vscode": {
     "languageId": "sql"
    }
   },
   "outputs": [],
   "source": [
    "SELECT top 10 DisplayName, Location, Reputation \n",
    "FROM Users \n",
    "ORDER BY Reputation DESC \n",
    "\n"
   ]
  },
  {
   "cell_type": "markdown",
   "metadata": {},
   "source": [
    " Selecciona la columna Title de la tabla Posts junto con el DisplayName de los usuarios\n",
    " que lo publicaron para aquellos posts que tienen un propietario.\n",
    " Para lograr esto une las tablas Posts y Users utilizando OwnerUserId para obtener el\n",
    " nombre del usuario que publicó cada post. Presenta los resultados en una tabla\n",
    " mostrando las columnas Title y DisplayName"
   ]
  },
  {
   "cell_type": "code",
   "execution_count": null,
   "metadata": {
    "vscode": {
     "languageId": "sql"
    }
   },
   "outputs": [],
   "source": [
    "SELECT Posts.Title, Users.DisplayName\n",
    "FROM Posts\n",
    "JOIN Users ON Posts.OwnerUserId = Users.Id;"
   ]
  },
  {
   "cell_type": "markdown",
   "metadata": {},
   "source": [
    "Encuentra el DisplayName de los usuarios que han realizado más de 100 comentarios\n",
    " en total. Para esto utiliza una subconsulta para calcular el total de comentarios por\n",
    " usuario y luego filtra aquellos usuarios que hayan realizado más de 100 comentarios en\n",
    " total. Presenta los resultados en una tabla mostrando el DisplayName de los usuarios"
   ]
  },
  {
   "cell_type": "code",
   "execution_count": null,
   "metadata": {
    "vscode": {
     "languageId": "sql"
    }
   },
   "outputs": [],
   "source": [
    "SELECT Users.DisplayName, AVG(Posts.Score) AS PromedioScore\n",
    "FROM Users\n",
    "JOIN Posts ON Users.Id = Posts.OwnerUserId\n",
    "GROUP BY Users.DisplayName;\n",
    " \n",
    "SELECT Users.DisplayName\n",
    "FROM Users\n",
    "WHERE Users.Id IN (\n",
    "    SELECT OwnerUserId\n",
    "    FROM Comments\n",
    "    GROUP BY OwnerUserId\n",
    "    HAVING COUNT(*) > 100\n",
    ")\n",
    "\n",
    "el correcto \n",
    "SELECT Users.DisplayName\n",
    "FROM Users\n",
    "WHERE Users.Id IN (\n",
    "    SELECT UserId\n",
    "    FROM Comments\n",
    "    GROUP BY UserId\n",
    "    HAVING COUNT(*) > 100\n",
    ")"
   ]
  },
  {
   "cell_type": "markdown",
   "metadata": {},
   "source": [
    "Actualiza la columna Location de la tabla Users cambiando todas las ubicaciones vacías\n",
    " por \"Desconocido\". Utiliza una consulta de actualización para cambiar las ubicaciones\n",
    " vacías. Muestra un mensaje indicando que la actualización se realizó correctamente."
   ]
  },
  {
   "cell_type": "code",
   "execution_count": null,
   "metadata": {
    "vscode": {
     "languageId": "sql"
    }
   },
   "outputs": [],
   "source": [
    "SELECT COUNT(*) FROM Users WHERE Location IS NULL OR Location = '';\n",
    "\n",
    "\n",
    "UPDATE Users\n",
    "SET Location = 'Desconocido'\n",
    "WHERE Location IS NULL OR Location = '';"
   ]
  },
  {
   "cell_type": "markdown",
   "metadata": {},
   "source": [
    " Elimina todos los comentarios realizados por usuarios con menos de 100 de reputación.\n",
    " Utiliza una consulta de eliminación para eliminar todos los comentarios realizados y\n",
    " muestra un mensaje indicando cuántos comentarios fueron eliminados"
   ]
  },
  {
   "cell_type": "code",
   "execution_count": null,
   "metadata": {
    "vscode": {
     "languageId": "sql"
    }
   },
   "outputs": [],
   "source": [
    "SELECT COUNT(*)\n",
    "FROM Comments\n",
    "WHERE OwnerUserId IN (\n",
    "    SELECT Id FROM Users WHERE Reputation < 100\n",
    ");\n",
    "\n",
    "DELETE FROM Comments\n",
    "WHERE OwnerUserId IN (\n",
    "    SELECT Id FROM Users WHERE Reputation < 100\n",
    ");"
   ]
  },
  {
   "cell_type": "markdown",
   "metadata": {},
   "source": [
    " Paracada usuario, muestra el número total de publicaciones (Posts), comentarios\n",
    " (Comments) y medallas (Badges) que han realizado. Utiliza uniones (JOIN) para combinar\n",
    " la información de las tablas Posts, Comments y Badges por usuario. Presenta los\n",
    " resultados en una tabla mostrando el DisplayName del usuario junto con el total de\n",
    " publicaciones, comentarios y medallas"
   ]
  },
  {
   "cell_type": "code",
   "execution_count": null,
   "metadata": {
    "vscode": {
     "languageId": "sql"
    }
   },
   "outputs": [],
   "source": [
    "WITH PostCounts AS (\n",
    "    SELECT TOP 1000 OwnerUserId, COUNT(*) AS PostCount\n",
    "    FROM Posts\n",
    "    GROUP BY OwnerUserId\n",
    "),\n",
    "CommentCounts AS (\n",
    "    SELECT TOP 1000 UserId, COUNT(*) AS CommentCount\n",
    "    FROM Comments\n",
    "    GROUP BY UserId\n",
    "),\n",
    "BadgeCounts AS (\n",
    "    SELECT TOP 1000 UserId, COUNT(*) AS BadgeCount\n",
    "    FROM Badges\n",
    "    GROUP BY UserId\n",
    ")\n",
    "SELECT TOP 100\n",
    "    u.DisplayName,\n",
    "    ISNULL(p.PostCount, 0) AS TotalPosts,\n",
    "    ISNULL(c.CommentCount, 0) AS TotalComments,\n",
    "    ISNULL(b.BadgeCount, 0) AS TotalBadges\n",
    "FROM Users u\n",
    "LEFT JOIN PostCounts p ON u.Id = p.OwnerUserId\n",
    "LEFT JOIN CommentCounts c ON u.Id = c.UserId\n",
    "LEFT JOIN BadgeCounts b ON u.Id = b.UserId\n",
    "ORDER BY (ISNULL(p.PostCount, 0) + ISNULL(c.CommentCount, 0) + ISNULL(b.BadgeCount, 0)) DESC"
   ]
  },
  {
   "cell_type": "markdown",
   "metadata": {},
   "source": [
    "Muestra las 10 publicaciones más populares basadas en la puntuación (Score) de la\n",
    " tabla Posts. Ordena las publicaciones por puntuación de forma descendente y\n",
    " selecciona solo las 10 primeras. Presenta los resultados en una tabla mostrando el Title\n",
    " de la publicación y su puntuación"
   ]
  },
  {
   "cell_type": "code",
   "execution_count": null,
   "metadata": {
    "vscode": {
     "languageId": "sql"
    }
   },
   "outputs": [],
   "source": [
    "SELECT top 10 Title, Score\n",
    "FROM Posts\n",
    "ORDER BY Score DESC\n"
   ]
  },
  {
   "cell_type": "markdown",
   "metadata": {},
   "source": [
    "Muestra los 5 comentarios más recientes de la tabla Comments. Ordena los comentarios\n",
    " por fecha de creación de forma descendente y selecciona solo los 5 primeros. Presenta\n",
    " los resultados en una tabla mostrando el Text del comentario y la fecha de creación"
   ]
  },
  {
   "cell_type": "code",
   "execution_count": null,
   "metadata": {
    "vscode": {
     "languageId": "sql"
    }
   },
   "outputs": [],
   "source": [
    "SELECT to 10 Text, CreationDate\n",
    "FROM Comments\n",
    "ORDER BY CreationDate DESC\n"
   ]
  }
 ],
 "metadata": {
  "language_info": {
   "name": "python"
  }
 },
 "nbformat": 4,
 "nbformat_minor": 2
}
